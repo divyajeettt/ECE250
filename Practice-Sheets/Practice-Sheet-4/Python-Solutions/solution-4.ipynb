{
  "cells": [
    {
      "cell_type": "code",
      "execution_count": null,
      "metadata": {
        "id": "F_JFhvRbJfBH"
      },
      "outputs": [],
      "source": [
        "import matplotlib.pyplot as plt\n",
        "import numpy as np"
      ]
    },
    {
      "cell_type": "code",
      "execution_count": null,
      "metadata": {
        "id": "535m9CqTOPFe"
      },
      "outputs": [],
      "source": [
        "# x(t): Signal given for Question 4\n",
        "def x(t: float) -> float:\n",
        "    return 1 if (-1 <= t <= 0 or 1 <= t <= 2) else (t if 0 <= t <= 1 else 0)"
      ]
    },
    {
      "cell_type": "code",
      "execution_count": null,
      "metadata": {
        "colab": {
          "base_uri": "https://localhost:8080/",
          "height": 350
        },
        "id": "tseamxVXOQdE",
        "outputId": "85f12189-280d-4589-8d63-d31db0747067"
      },
      "outputs": [
        {
          "data": {
            "text/plain": [
              "Text(0.5, 0, 't')"
            ]
          },
          "execution_count": 4,
          "metadata": {},
          "output_type": "execute_result"
        },
        {
          "data": {
            "image/png": "[encoded data removed]",
            "text/plain": [
              "<Figure size 432x288 with 2 Axes>"
            ]
          },
          "metadata": {
            "needs_background": "light"
          },
          "output_type": "display_data"
        }
      ],
      "source": [
        "# Plot x(t) and x(1 - t/2)\n",
        "\n",
        "fig, axes = plt.subplots(2, 1)\n",
        "for i in range(2):\n",
        "    axes[i].grid(True)\n",
        "\n",
        "T = np.arange(-5, 5.01, 0.01)\n",
        "\n",
        "axes[0].step(T, [x(t) for t in T])\n",
        "axes[1].step(T, [x(1 - t/2) for t in T])\n",
        "\n",
        "axes[0].set_title(\"Question: 4\")\n",
        "axes[0].set_ylabel(\"x(t)\")\n",
        "axes[1].set_ylabel(\"x(1 - t/2)\")\n",
        "axes[1].set_xlabel(\"t\")"
      ]
    }
  ],
  "metadata": {
    "colab": {
      "collapsed_sections": [],
      "provenance": []
    },
    "kernelspec": {
      "display_name": "Python 3.10.1 64-bit",
      "language": "python",
      "name": "python3"
    },
    "language_info": {
      "codemirror_mode": {
        "name": "ipython",
        "version": 3
      },
      "file_extension": ".py",
      "mimetype": "text/x-python",
      "name": "python",
      "nbconvert_exporter": "python",
      "pygments_lexer": "ipython3",
      "version": "3.10.1"
    },
    "vscode": {
      "interpreter": {
        "hash": "26de051ba29f2982a8de78e945f0abaf191376122a1563185a90213a26c5da77"
      }
    }
  },
  "nbformat": 4,
  "nbformat_minor": 0
}
