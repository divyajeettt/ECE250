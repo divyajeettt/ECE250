{
  "cells": [
    {
      "cell_type": "code",
      "execution_count": 1,
      "metadata": {
        "id": "F_JFhvRbJfBH"
      },
      "outputs": [],
      "source": [
        "import matplotlib.pyplot as plt\n",
        "import numpy as np"
      ]
    },
    {
      "cell_type": "code",
      "execution_count": 4,
      "metadata": {
        "id": "535m9CqTOPFe"
      },
      "outputs": [],
      "source": [
        "# x[n]: Signal given for Question 5\n",
        "def x(n: int) -> int:\n",
        "    return 1 if (n == 2) else (-1 if n == 4 else 0)\n",
        "\n",
        "# h[n]: Impluse response of x[n]\n",
        "def h(n: int) -> int:\n",
        "    return 1 if (0 <= n <= 3) else (-1 if 4 <= n <= 5 else 0)"
      ]
    },
    {
      "cell_type": "code",
      "execution_count": 6,
      "metadata": {
        "colab": {
          "base_uri": "https://localhost:8080/",
          "height": 350
        },
        "id": "tseamxVXOQdE",
        "outputId": "85f12189-280d-4589-8d63-d31db0747067"
      },
      "outputs": [
        {
          "data": {
            "text/plain": [
              "Text(0.5, 0, 'n')"
            ]
          },
          "execution_count": 6,
          "metadata": {},
          "output_type": "execute_result"
        },
        {
          "data": {
            "image/png": "[encoded data removed]",
            "text/plain": [
              "<Figure size 432x288 with 3 Axes>"
            ]
          },
          "metadata": {
            "needs_background": "light"
          },
          "output_type": "display_data"
        }
      ],
      "source": [
        "# Plot x[n] and h[n] and h[-n]\n",
        "\n",
        "N = range(-8, 8)\n",
        "X = [x(n) for n in N]\n",
        "H = [h(n) for n in N]\n",
        "flipH = [h(-n) for n in N]\n",
        "\n",
        "fig, axes = plt.subplots(3, 1)\n",
        "for i in range(3):\n",
        "    axes[i].grid(True)\n",
        "\n",
        "axes[0].stem(N, X, use_line_collection=True)\n",
        "axes[1].stem(N, H, use_line_collection=True)\n",
        "axes[2].stem(N, flipH, use_line_collection=True)\n",
        "\n",
        "axes[0].set_title(\"Question: 7\")\n",
        "axes[0].set_ylabel(\"x[n]\")\n",
        "axes[1].set_ylabel(\"h[n]\")\n",
        "axes[2].set_ylabel(\"h[-n]\")\n",
        "axes[2].set_xlabel(\"n\")"
      ]
    },
    {
      "cell_type": "code",
      "execution_count": 11,
      "metadata": {
        "colab": {
          "base_uri": "https://localhost:8080/",
          "height": 350
        },
        "id": "HC0Z4pYiOSn5",
        "outputId": "8e3229ba-8aaa-4373-aa98-998ddbb53baa"
      },
      "outputs": [
        {
          "data": {
            "image/png": "[encoded data removed]",
            "text/plain": [
              "<Figure size 432x288 with 1 Axes>"
            ]
          },
          "metadata": {
            "needs_background": "light"
          },
          "output_type": "display_data"
        }
      ],
      "source": [
        "# Plot y[n] = x[n] * h[n], where * denotes convolution\n",
        "\n",
        "plt.stem(range(-len(N), len(N)-1), np.convolve(np.ravel(X), np.ravel(H), \"full\"))\n",
        "plt.title(\"Convolution of x[n] and h[n]\")\n",
        "plt.ylabel(\"y[n] = x[n] * h[n]\")\n",
        "plt.xlabel(\"n\")\n",
        "plt.grid(True)"
      ]
    }
  ],
  "metadata": {
    "colab": {
      "collapsed_sections": [],
      "provenance": []
    },
    "kernelspec": {
      "display_name": "Python 3.10.1 64-bit",
      "language": "python",
      "name": "python3"
    },
    "language_info": {
      "codemirror_mode": {
        "name": "ipython",
        "version": 3
      },
      "file_extension": ".py",
      "mimetype": "text/x-python",
      "name": "python",
      "nbconvert_exporter": "python",
      "pygments_lexer": "ipython3",
      "version": "3.10.1"
    },
    "vscode": {
      "interpreter": {
        "hash": "26de051ba29f2982a8de78e945f0abaf191376122a1563185a90213a26c5da77"
      }
    }
  },
  "nbformat": 4,
  "nbformat_minor": 0
}
